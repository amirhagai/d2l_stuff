{
 "cells": [
  {
   "cell_type": "markdown",
   "metadata": {},
   "source": [
    "intuition for object detection in an image\n",
    "by enumerating a few desiderata to guide our design\n",
    "of a neural network architecture suitable for computer vision:\n",
    "\n",
    "1. In the earliest layers, our network\n",
    "   should respond similarly to the same patch,\n",
    "   regardless of where it appears in the image. This principle is called *translation invariance* (or *translation equivariance*).\n",
    "1. The earliest layers of the network should focus on local regions,\n",
    "   without regard for the contents of the image in distant regions. This is the *locality* principle.\n",
    "   Eventually, these local representations can be aggregated\n",
    "   to make predictions at the whole image level.\n",
    "1. As we proceed, deeper layers should be able to capture longer-range features of the \n",
    "   image, in a way similar to higher level vision in nature. \n",
    "\n",
    "Let's see how this translates into mathematics."
   ]
  },
  {
   "cell_type": "code",
   "execution_count": 2,
   "metadata": {},
   "outputs": [],
   "source": [
    "import torch\n",
    "from torch import nn"
   ]
  },
  {
   "cell_type": "code",
   "execution_count": 54,
   "metadata": {},
   "outputs": [],
   "source": [
    "def corr2d(X, k):\n",
    "\n",
    "    h, w = k.shape\n",
    "    y = torch.zeros((X.shape[0] - h + 1, X.shape[1] - w + 1))\n",
    "\n",
    "    for i in range(y.shape[0]):\n",
    "        for j in range(y.shape[1]):\n",
    "            y[i, j] = (k * X[i : i + h, j : j + w]).sum()\n",
    "\n",
    "    return y\n",
    "\n",
    "def test_corr2d():\n",
    "    con = nn.Conv2d(in_channels=1, out_channels=1, kernel_size=3, stride=1, bias=False)\n",
    "    weight = con.weight.data[0, 0].clone().detach()\n",
    "    x = torch.rand((6, 6))\n",
    "    x.requires_grad = True\n",
    "    res1 = corr2d(x, weight)\n",
    "    res1.backward(torch.ones_like(res1))\n",
    "\n",
    "    x2 = x.clone().detach().requires_grad_(True)\n",
    "    res2 = con(x2[None, None, :, :])\n",
    "    res2.backward(torch.ones_like(res2))\n",
    "\n",
    "\n",
    "    assert (corr2d(x, weight) - con(x[None, None, :, :])[0, 0] < 1e-5).sum() == 4 * 4, f\"problem occour, corr2d result is {corr2d(x, weight)} and conv {con(x[None, None, :, :])[0, 0]}\"\n",
    "    assert (x.grad - x2.grad < 1e-5).sum() == 6 * 6, f\"problem occour, x grad is {x.grad} and x2 grad {x2.grad}\"\n",
    "\n",
    "test_corr2d()"
   ]
  },
  {
   "cell_type": "code",
   "execution_count": null,
   "metadata": {},
   "outputs": [],
   "source": [
    "class Conv2D(nn.Module):\n",
    "\n",
    "    def __init__(self, kernel_size) -> None:\n",
    "        super().__init__()\n",
    "        weight = nn.parameter(torch.rand(kernel_size))\n",
    "        bias = nn.parameter(torch.rand(1))\n",
    "    \n",
    "    def forward(X):\n",
    "\n",
    "        return corr2d(X, self.weight) + self.bias"
   ]
  }
 ],
 "metadata": {
  "kernelspec": {
   "display_name": "Python 3",
   "language": "python",
   "name": "python3"
  },
  "language_info": {
   "codemirror_mode": {
    "name": "ipython",
    "version": 3
   },
   "file_extension": ".py",
   "mimetype": "text/x-python",
   "name": "python",
   "nbconvert_exporter": "python",
   "pygments_lexer": "ipython3",
   "version": "3.11.6"
  }
 },
 "nbformat": 4,
 "nbformat_minor": 2
}
